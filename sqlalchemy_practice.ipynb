{
 "cells": [
  {
   "cell_type": "code",
   "execution_count": 53,
   "metadata": {},
   "outputs": [],
   "source": [
    "from sqlalchemy import create_engine\n",
    "from sqlalchemy.orm import sessionmaker, Session, DeclarativeBase, Mapped, mapped_column\n"
   ]
  },
  {
   "cell_type": "code",
   "execution_count": 54,
   "metadata": {},
   "outputs": [],
   "source": [
    "engine = create_engine(\"sqlite:///my_db.db\", echo=True)\n",
    "\n",
    "SESSION = sessionmaker(bind=engine, autoflush=True)"
   ]
  },
  {
   "cell_type": "code",
   "execution_count": 55,
   "metadata": {},
   "outputs": [],
   "source": [
    "class Base(DeclarativeBase):\n",
    "    id: Mapped[int] = mapped_column(primary_key=True)\n",
    "\n",
    "    # @property\n",
    "    # @classmethod\n",
    "    # def __tablename__(cls):\n",
    "    #     return cls.__name__.lower() \n",
    "\n",
    "\n",
    "\n",
    "class Animal(Base):\n",
    "    __tablename__ = \"animals\"\n",
    "\n",
    "class User(Base):\n",
    "    __tablename__ = \"users\"\n",
    "\n",
    "# Base.metadata.drop_all(bind=engine)\n",
    "# Animal.metadata.create_all(bind=engine)\n",
    "# Base.metadata.create_all(bind=engine)"
   ]
  },
  {
   "cell_type": "code",
   "execution_count": 56,
   "metadata": {},
   "outputs": [
    {
     "name": "stdout",
     "output_type": "stream",
     "text": [
      "2024-08-11 10:32:06,946 INFO sqlalchemy.engine.Engine BEGIN (implicit)\n",
      "2024-08-11 10:32:06,948 INFO sqlalchemy.engine.Engine INSERT INTO users DEFAULT VALUES\n",
      "2024-08-11 10:32:06,949 INFO sqlalchemy.engine.Engine [generated in 0.00116s] ()\n",
      "2024-08-11 10:32:06,951 INFO sqlalchemy.engine.Engine COMMIT\n"
     ]
    }
   ],
   "source": [
    "session = SESSION()\n",
    "session.add(User())\n",
    "session.commit()"
   ]
  },
  {
   "cell_type": "code",
   "execution_count": 57,
   "metadata": {},
   "outputs": [
    {
     "name": "stdout",
     "output_type": "stream",
     "text": [
      "2024-08-11 10:32:06,964 INFO sqlalchemy.engine.Engine BEGIN (implicit)\n",
      "2024-08-11 10:32:06,965 INFO sqlalchemy.engine.Engine INSERT INTO animals (id) VALUES (NULL) RETURNING id\n",
      "2024-08-11 10:32:06,966 INFO sqlalchemy.engine.Engine [generated in 0.00007s (insertmanyvalues) 1/4 (ordered; batch not supported)] ()\n",
      "2024-08-11 10:32:06,967 INFO sqlalchemy.engine.Engine INSERT INTO animals (id) VALUES (NULL) RETURNING id\n",
      "2024-08-11 10:32:06,967 INFO sqlalchemy.engine.Engine [insertmanyvalues 2/4 (ordered; batch not supported)] ()\n",
      "2024-08-11 10:32:06,967 INFO sqlalchemy.engine.Engine INSERT INTO animals (id) VALUES (NULL) RETURNING id\n",
      "2024-08-11 10:32:06,968 INFO sqlalchemy.engine.Engine [insertmanyvalues 3/4 (ordered; batch not supported)] ()\n",
      "2024-08-11 10:32:06,968 INFO sqlalchemy.engine.Engine INSERT INTO animals (id) VALUES (NULL) RETURNING id\n",
      "2024-08-11 10:32:06,969 INFO sqlalchemy.engine.Engine [insertmanyvalues 4/4 (ordered; batch not supported)] ()\n",
      "2024-08-11 10:32:06,969 INFO sqlalchemy.engine.Engine INSERT INTO users (id) VALUES (NULL) RETURNING id\n",
      "2024-08-11 10:32:06,970 INFO sqlalchemy.engine.Engine [generated in 0.00008s (insertmanyvalues) 1/2 (ordered; batch not supported)] ()\n",
      "2024-08-11 10:32:06,970 INFO sqlalchemy.engine.Engine INSERT INTO users (id) VALUES (NULL) RETURNING id\n",
      "2024-08-11 10:32:06,971 INFO sqlalchemy.engine.Engine [insertmanyvalues 2/2 (ordered; batch not supported)] ()\n",
      "2024-08-11 10:32:06,972 INFO sqlalchemy.engine.Engine COMMIT\n"
     ]
    }
   ],
   "source": [
    "with SESSION.begin() as session:\n",
    "    session.add(User())\n",
    "    # session.flush()\n",
    "\n",
    "    session.add(Animal())\n",
    "    # session.flush()\n",
    "\n",
    "    session.add(Animal())\n",
    "    # session.flush()\n",
    "\n",
    "\n",
    "    session.add_all({Animal(), Animal(), User()})\n",
    "\n"
   ]
  }
 ],
 "metadata": {
  "kernelspec": {
   "display_name": ".venv",
   "language": "python",
   "name": "python3"
  },
  "language_info": {
   "codemirror_mode": {
    "name": "ipython",
    "version": 3
   },
   "file_extension": ".py",
   "mimetype": "text/x-python",
   "name": "python",
   "nbconvert_exporter": "python",
   "pygments_lexer": "ipython3",
   "version": "3.10.12"
  }
 },
 "nbformat": 4,
 "nbformat_minor": 2
}
